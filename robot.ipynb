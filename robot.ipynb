{
 "cells": [
  {
   "cell_type": "code",
   "execution_count": 3,
   "metadata": {},
   "outputs": [],
   "source": [
    "import pygame\n",
    "import sys\n",
    "from Player import Player\n",
    "from box import Box\n",
    "from SokobanPuzzle import SokobanPuzzle"
   ]
  },
  {
   "cell_type": "code",
   "execution_count": 2,
   "metadata": {},
   "outputs": [
    {
     "name": "stdout",
     "output_type": "stream",
     "text": [
      "Testing Board 1\n",
      "actions : $['UP', 'DOWN', 'LEFT', 'RIGHT']\n",
      "Testing Board 2\n",
      "actions : $[]\n",
      "Testing Board 3\n",
      "actions : $['UP', 'DOWN', 'LEFT']\n",
      "Testing Board 4\n",
      "actions : $['UP', 'DOWN', 'LEFT', 'RIGHT']\n",
      "Testing Board 5\n",
      "actions : $['UP', 'DOWN', 'LEFT', 'RIGHT']\n",
      "Testing Board 6\n",
      "actions : $['UP', 'DOWN', 'LEFT']\n"
     ]
    }
   ],
   "source": [
    "from SokobanPuzzle import SokobanPuzzle\n",
    "board1 = [\n",
    "    [' ', ' ', ' '],\n",
    "    [' ', 'R', ' '],\n",
    "    [' ', ' ', ' ']\n",
    "]\n",
    "\n",
    "\n",
    "\n",
    "board2 = [\n",
    "    ['O', 'O', 'O'],\n",
    "    ['O', 'R', 'O'],\n",
    "    ['O', 'O', 'O']\n",
    "]\n",
    "\n",
    "\n",
    "\n",
    "board3 = [\n",
    "    [' ', ' ', ' '],\n",
    "    [' ', 'R', 'B'],\n",
    "    [' ', ' ', ' ']\n",
    "]\n",
    "\n",
    "\n",
    "\n",
    "board4 = [\n",
    "    [' ', ' ', ' '],\n",
    "    [' ', 'R', 'B', 'S'],\n",
    "    [' ', ' ', ' ']\n",
    "]\n",
    "\n",
    "\n",
    "\n",
    "board5 = [\n",
    "    [' ', ' ', ' '],\n",
    "    [' ', '.', ' '],\n",
    "    [' ', ' ', ' ']\n",
    "]\n",
    "\n",
    "\n",
    "\n",
    "board6 = [\n",
    "    [' ', ' ', ' '],\n",
    "    [' ', 'R', '*'],\n",
    "    [' ', ' ', ' ']\n",
    "]\n",
    "\n",
    "\n",
    "\n",
    "\n",
    "test_boards = [board1, board2, board3, board4, board5, board6]\n",
    "\n",
    "for i, board in enumerate(test_boards):\n",
    "    actions = []\n",
    "    puzzle = SokobanPuzzle(board)\n",
    "    puzzle.player_pos = (1, 1)  \n",
    "    print(f\"Testing Board {i + 1}\")\n",
    "    successors = puzzle.successorFunction()\n",
    "    for action, successor in successors:\n",
    "        actions.append(action)\n",
    "    print(f\"actions : ${actions}\")\n",
    "        "
   ]
  },
  {
   "cell_type": "markdown",
   "metadata": {},
   "source": []
  },
  {
   "cell_type": "code",
   "execution_count": null,
   "metadata": {},
   "outputs": [],
   "source": [
    "from Node import Node\n",
    "init = Node(SokobanPuzzle(board4))"
   ]
  },
  {
   "cell_type": "code",
   "execution_count": 3,
   "metadata": {},
   "outputs": [
    {
     "ename": "TypeError",
     "evalue": "'NoneType' object is not subscriptable",
     "output_type": "error",
     "traceback": [
      "\u001b[0;31m---------------------------------------------------------------------------\u001b[0m",
      "\u001b[0;31mTypeError\u001b[0m                                 Traceback (most recent call last)",
      "Cell \u001b[0;32mIn[3], line 41\u001b[0m\n\u001b[1;32m     39\u001b[0m sokoban_puzzle \u001b[38;5;241m=\u001b[39m SokobanPuzzle(game_map)\n\u001b[1;32m     40\u001b[0m init_node \u001b[38;5;241m=\u001b[39m Node(sokoban_puzzle)\n\u001b[0;32m---> 41\u001b[0m states \u001b[38;5;241m=\u001b[39m \u001b[43minit_node\u001b[49m\u001b[38;5;241;43m.\u001b[39;49m\u001b[43mgetStates\u001b[49m\u001b[43m(\u001b[49m\u001b[43m)\u001b[49m\n\u001b[1;32m     42\u001b[0m states\u001b[38;5;241m.\u001b[39minsert(\u001b[38;5;241m0\u001b[39m, game_map)\n\u001b[1;32m     44\u001b[0m \u001b[38;5;66;03m# Variables to control the game loop\u001b[39;00m\n",
      "File \u001b[0;32m~/rp_tp/TpRp/sokoban/Node.py:30\u001b[0m, in \u001b[0;36mNode.getStates\u001b[0;34m(self)\u001b[0m\n\u001b[1;32m     28\u001b[0m \u001b[38;5;28;01mdef\u001b[39;00m \u001b[38;5;21mgetStates\u001b[39m(\u001b[38;5;28mself\u001b[39m):\n\u001b[1;32m     29\u001b[0m     states \u001b[38;5;241m=\u001b[39m []\n\u001b[0;32m---> 30\u001b[0m     solution \u001b[38;5;241m=\u001b[39m \u001b[38;5;28;43mself\u001b[39;49m\u001b[38;5;241;43m.\u001b[39;49m\u001b[43mgetSolution\u001b[49m\u001b[43m(\u001b[49m\u001b[43m)\u001b[49m\n\u001b[1;32m     31\u001b[0m     \u001b[38;5;28;01mif\u001b[39;00m solution \u001b[38;5;129;01mis\u001b[39;00m \u001b[38;5;28;01mNone\u001b[39;00m:\n\u001b[1;32m     32\u001b[0m         \u001b[38;5;28mprint\u001b[39m(\u001b[38;5;124m\"\u001b[39m\u001b[38;5;124mSolution is None\u001b[39m\u001b[38;5;124m\"\u001b[39m)\n",
      "File \u001b[0;32m~/rp_tp/TpRp/sokoban/Node.py:57\u001b[0m, in \u001b[0;36mNode.getSolution\u001b[0;34m(self)\u001b[0m\n\u001b[1;32m     54\u001b[0m current \u001b[38;5;241m=\u001b[39m open_set\u001b[38;5;241m.\u001b[39mget()\n\u001b[1;32m     55\u001b[0m closed_set\u001b[38;5;241m.\u001b[39madd(current\u001b[38;5;241m.\u001b[39mstate)  \u001b[38;5;66;03m# Mark state as visited\u001b[39;00m\n\u001b[0;32m---> 57\u001b[0m \u001b[38;5;28;01mfor\u001b[39;00m (action, successor) \u001b[38;5;129;01min\u001b[39;00m \u001b[43mcurrent\u001b[49m\u001b[38;5;241;43m.\u001b[39;49m\u001b[43mstate\u001b[49m\u001b[38;5;241;43m.\u001b[39;49m\u001b[43msuccessorFunction\u001b[49m\u001b[43m(\u001b[49m\u001b[43m)\u001b[49m:\n\u001b[1;32m     58\u001b[0m     child \u001b[38;5;241m=\u001b[39m Node(successor, current, action)\n\u001b[1;32m     60\u001b[0m     \u001b[38;5;28;01mif\u001b[39;00m child\u001b[38;5;241m.\u001b[39mstate\u001b[38;5;241m.\u001b[39misGoal():\n",
      "File \u001b[0;32m~/rp_tp/TpRp/sokoban/SokobanPuzzle.py:27\u001b[0m, in \u001b[0;36mSokobanPuzzle.successorFunction\u001b[0;34m(self)\u001b[0m\n\u001b[1;32m     19\u001b[0m moves \u001b[38;5;241m=\u001b[39m {\n\u001b[1;32m     20\u001b[0m     \u001b[38;5;124m\"\u001b[39m\u001b[38;5;124mUP\u001b[39m\u001b[38;5;124m\"\u001b[39m: (\u001b[38;5;241m-\u001b[39m\u001b[38;5;241m1\u001b[39m, \u001b[38;5;241m0\u001b[39m),\n\u001b[1;32m     21\u001b[0m     \u001b[38;5;124m\"\u001b[39m\u001b[38;5;124mDOWN\u001b[39m\u001b[38;5;124m\"\u001b[39m: (\u001b[38;5;241m1\u001b[39m, \u001b[38;5;241m0\u001b[39m),\n\u001b[1;32m     22\u001b[0m     \u001b[38;5;124m\"\u001b[39m\u001b[38;5;124mLEFT\u001b[39m\u001b[38;5;124m\"\u001b[39m: (\u001b[38;5;241m0\u001b[39m, \u001b[38;5;241m-\u001b[39m\u001b[38;5;241m1\u001b[39m),\n\u001b[1;32m     23\u001b[0m     \u001b[38;5;124m\"\u001b[39m\u001b[38;5;124mRIGHT\u001b[39m\u001b[38;5;124m\"\u001b[39m: (\u001b[38;5;241m0\u001b[39m, \u001b[38;5;241m1\u001b[39m)\n\u001b[1;32m     24\u001b[0m }\n\u001b[1;32m     26\u001b[0m \u001b[38;5;28;01mfor\u001b[39;00m move, (ver, hor) \u001b[38;5;129;01min\u001b[39;00m moves\u001b[38;5;241m.\u001b[39mitems():\n\u001b[0;32m---> 27\u001b[0m     new_row, new_col \u001b[38;5;241m=\u001b[39m \u001b[38;5;28;43mself\u001b[39;49m\u001b[38;5;241;43m.\u001b[39;49m\u001b[43mplayer_pos\u001b[49m\u001b[43m[\u001b[49m\u001b[38;5;241;43m0\u001b[39;49m\u001b[43m]\u001b[49m \u001b[38;5;241m+\u001b[39m ver, \u001b[38;5;28mself\u001b[39m\u001b[38;5;241m.\u001b[39mplayer_pos[\u001b[38;5;241m1\u001b[39m] \u001b[38;5;241m+\u001b[39m hor\n\u001b[1;32m     29\u001b[0m     \u001b[38;5;66;03m# Check if the new position is within the grid bounds\u001b[39;00m\n\u001b[1;32m     30\u001b[0m     \u001b[38;5;28;01mif\u001b[39;00m \u001b[38;5;241m0\u001b[39m \u001b[38;5;241m<\u001b[39m\u001b[38;5;241m=\u001b[39m new_row \u001b[38;5;241m<\u001b[39m \u001b[38;5;28mlen\u001b[39m(\u001b[38;5;28mself\u001b[39m\u001b[38;5;241m.\u001b[39mgrid) \u001b[38;5;129;01mand\u001b[39;00m \u001b[38;5;241m0\u001b[39m \u001b[38;5;241m<\u001b[39m\u001b[38;5;241m=\u001b[39m new_col \u001b[38;5;241m<\u001b[39m \u001b[38;5;28mlen\u001b[39m(\u001b[38;5;28mself\u001b[39m\u001b[38;5;241m.\u001b[39mgrid[\u001b[38;5;241m0\u001b[39m]):\n",
      "\u001b[0;31mTypeError\u001b[0m: 'NoneType' object is not subscriptable"
     ]
    },
    {
     "ename": "",
     "evalue": "",
     "output_type": "error",
     "traceback": [
      "\u001b[1;31mThe Kernel crashed while executing code in the current cell or a previous cell. \n",
      "\u001b[1;31mPlease review the code in the cell(s) to identify a possible cause of the failure. \n",
      "\u001b[1;31mClick <a href='https://aka.ms/vscodeJupyterKernelCrash'>here</a> for more info. \n",
      "\u001b[1;31mView Jupyter <a href='command:jupyter.viewOutput'>log</a> for further details."
     ]
    }
   ],
   "source": [
    "import pygame\n",
    "import sys\n",
    "from SokobanPuzzle import SokobanPuzzle\n",
    "from Node import Node\n",
    "\n",
    "# Define the game map\n",
    "game_map = [\n",
    "    ['O', 'O', 'O', 'O','O' , 'O', 'O' , 'O' 'O'],\n",
    "    ['O', ' ', ' ', ' ',' ' , ' ', ' ' , ' ' 'O'],\n",
    "    ['O', ' ', ' ', ' ',' ' , ' ', ' ' , ' ' 'O'],\n",
    "    ['O', ' ', ' ', 'O','O' , 'O', 'R' , ' ' 'O'],\n",
    "    ['O', ' ', ' ', ' ',' ' , 'O', 'S' , ' ' 'O'],\n",
    "    ['O', ' ', ' ', ' ',' ' , ' ', 'O' , ' ' 'O'],\n",
    "    ['O', ' ', ' ', 'B',' ' , ' ', 'O' , ' ' 'O'],\n",
    "    ['O', ' ', ' ', ' ',' ' , ' ', 'O' , ' ' 'O'],\n",
    "    ['O', 'O', 'O', 'O','O' , 'O', 'O' , 'O' 'O']\n",
    "]\n",
    "\n",
    "pygame.init()\n",
    "\n",
    "width, height = len(game_map[0]) * 100, len(game_map) * 100\n",
    "screen = pygame.display.set_mode((width, height))\n",
    "pygame.display.set_caption(\"Game Example\")\n",
    "\n",
    "# Load images\n",
    "player_img = pygame.image.load('assets/player.png')\n",
    "player_img = pygame.transform.scale(player_img, (100, 100))\n",
    "\n",
    "blue_square_image = pygame.image.load('assets/obstacle.png')\n",
    "blue_square_image = pygame.transform.scale(blue_square_image, (100, 100))\n",
    "\n",
    "box_image = pygame.image.load('assets/box.png')\n",
    "box_image = pygame.transform.scale(box_image, (100, 100))\n",
    "\n",
    "storage_image = pygame.image.load('assets/storage.png')\n",
    "storage_image = pygame.transform.scale(storage_image, (100, 100))\n",
    "\n",
    "# Initialize the Sokoban puzzle and states\n",
    "sokoban_puzzle = SokobanPuzzle(game_map)\n",
    "init_node = Node(sokoban_puzzle)\n",
    "states = init_node.getStates()\n",
    "states.insert(0, game_map)\n",
    "\n",
    "# Variables to control the game loop\n",
    "running = True\n",
    "current_state_index = 0\n",
    "state_display_delay = 1000  # milliseconds\n",
    "last_state_change_time = pygame.time.get_ticks()\n",
    "\n",
    "# Main game loop\n",
    "while running:\n",
    "    for event in pygame.event.get():\n",
    "        if event.type == pygame.QUIT:\n",
    "            running = False\n",
    "    \n",
    "    # Update only if enough time has passed\n",
    "    current_time = pygame.time.get_ticks()\n",
    "    if current_time - last_state_change_time > state_display_delay:\n",
    "        # Move to the next state\n",
    "        if current_state_index < len(states) - 1:\n",
    "            current_state_index += 1\n",
    "            game_map = states[current_state_index]\n",
    "            last_state_change_time = current_time\n",
    "        else:\n",
    "            # Stop updating once all states are shown\n",
    "            running = False\n",
    "\n",
    "    # Clear the screen\n",
    "    screen.fill((0, 0, 0))\n",
    "\n",
    "    # Draw the current state of the game map\n",
    "    for j in range(len(game_map)):\n",
    "        for i in range(len(game_map[j])):\n",
    "            if game_map[j][i] == 'O':\n",
    "                screen.blit(blue_square_image, (100 * i, 100 * j))\n",
    "            elif game_map[j][i] == 'S':\n",
    "                screen.blit(storage_image, (100 * i, 100 * j))\n",
    "            elif game_map[j][i] == 'B':\n",
    "                screen.blit(box_image, (100 * i, 100 * j))\n",
    "            elif game_map[j][i] == 'R':\n",
    "                screen.blit(player_img, (100 * i, 100 * j))\n",
    "          #  elif game_map[j][i] == '.':\n",
    "           #     screen.blit(storage_image, (100 * i, 100 * j))\n",
    "            #    screen.blit(player_img, (100 * i, 100 * j))\n",
    "    \n",
    "    # Update the display\n",
    "    pygame.display.flip()\n",
    "\n",
    "pygame.quit()\n",
    "sys.exit()\n"
   ]
  },
  {
   "cell_type": "code",
   "execution_count": 3,
   "metadata": {},
   "outputs": [
    {
     "name": "stdout",
     "output_type": "stream",
     "text": [
      "here\n",
      "[]\n"
     ]
    }
   ],
   "source": [
    "from Node import Node\n",
    "from SokobanPuzzle import SokobanPuzzle\n",
    "game_map = [\n",
    "    ['O', 'O', 'O', 'O', 'O'],\n",
    "    ['O', 'R', ' ', ' ', 'O'],\n",
    "    ['O', ' ', 'B', 'O', 'S'],\n",
    "    ['O', 'O', 'O', 'O', 'O']\n",
    "]\n",
    "init = Node(SokobanPuzzle(game_map))\n",
    "print(init.getPath())"
   ]
  },
  {
   "cell_type": "code",
   "execution_count": null,
   "metadata": {},
   "outputs": [],
   "source": [
    "game_map = [\n",
    "    ['O', 'O', 'O', 'O','O' , 'O', 'O' , 'O' 'O'],\n",
    "    ['O', ' ', ' ', ' ',' ' , ' ', ' ' , ' ' 'O'],\n",
    "    ['O', ' ', ' ', ' ',' ' , ' ', ' ' , ' ' 'O'],\n",
    "    ['O', ' ', ' ', 'O','O' , 'O', ' ' , ' ' 'O'],\n",
    "    ['O', ' ', ' ', ' ',' ' , 'O', '.' , ' ' 'O'],\n",
    "    ['O', ' ', ' ', ' ',' ' , ' ', 'O' , ' ' 'O'],\n",
    "    ['O', ' ', ' ', 'B',' ' , ' ', 'O' , ' ' 'O'],\n",
    "    ['O', ' ', ' ', ' ',' ' , ' ', 'O' , ' ' 'O'],\n",
    "    ['O', 'O', 'O', 'O','O' , 'O', 'O' , 'O' 'O']\n",
    "]\n"
   ]
  },
  {
   "cell_type": "code",
   "execution_count": null,
   "metadata": {},
   "outputs": [],
   "source": []
  }
 ],
 "metadata": {
  "kernelspec": {
   "display_name": "env",
   "language": "python",
   "name": "python3"
  },
  "language_info": {
   "codemirror_mode": {
    "name": "ipython",
    "version": 3
   },
   "file_extension": ".py",
   "mimetype": "text/x-python",
   "name": "python",
   "nbconvert_exporter": "python",
   "pygments_lexer": "ipython3",
   "version": "3.11.2"
  }
 },
 "nbformat": 4,
 "nbformat_minor": 2
}
